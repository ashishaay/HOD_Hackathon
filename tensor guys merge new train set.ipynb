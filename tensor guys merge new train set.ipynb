{
 "cells": [
  {
   "cell_type": "code",
   "execution_count": 22,
   "metadata": {},
   "outputs": [],
   "source": [
    "import pandas as pd\n",
    "import numpy as np\n",
    "import sklearn as skl\n",
    "import os\n",
    "import sys"
   ]
  },
  {
   "cell_type": "code",
   "execution_count": 23,
   "metadata": {},
   "outputs": [],
   "source": [
    "file_names=os.listdir('/Users/jesherjoshua/Downloads/uploads')"
   ]
  },
  {
   "cell_type": "code",
   "execution_count": 24,
   "metadata": {},
   "outputs": [
    {
     "name": "stderr",
     "output_type": "stream",
     "text": [
      "/Users/jesherjoshua/Library/Python/3.8/lib/python/site-packages/IPython/core/interactiveshell.py:3444: DtypeWarning: Columns (28) have mixed types.Specify dtype option on import or set low_memory=False.\n",
      "  exec(code_obj, self.user_global_ns, self.user_ns)\n"
     ]
    }
   ],
   "source": [
    "df=pd.read_csv('/Users/jesherjoshua/Downloads/uploads/'+file_names[0])"
   ]
  },
  {
   "cell_type": "code",
   "execution_count": 25,
   "metadata": {},
   "outputs": [
    {
     "name": "stdout",
     "output_type": "stream",
     "text": [
      "(100000, 85)\n",
      "(100000, 85)\n",
      "(100000, 85)\n",
      "(100000, 85)\n",
      "(100000, 85)\n",
      "(100000, 85)\n",
      "(100000, 85)\n",
      "(100000, 85)\n",
      "(100000, 85)\n",
      "(100000, 85)\n",
      "(100000, 85)\n",
      "(100000, 85)\n",
      "(100000, 85)\n",
      "(100000, 85)\n",
      "(100000, 85)\n",
      "(100000, 85)\n",
      "(100000, 85)\n",
      "(100000, 85)\n",
      "(100000, 85)\n",
      "(100000, 85)\n",
      "(100000, 85)\n",
      "(100000, 85)\n",
      "(100000, 85)\n",
      "(100000, 85)\n",
      "(100000, 85)\n",
      "(100000, 85)\n",
      "(100000, 85)\n",
      "(100000, 85)\n",
      "(100000, 85)\n",
      "(100000, 85)\n",
      "(100000, 85)\n",
      "(100000, 85)\n",
      "(100000, 85)\n",
      "(100000, 85)\n",
      "(100000, 85)\n",
      "(100000, 85)\n",
      "(100000, 85)\n",
      "(100000, 85)\n",
      "(100000, 85)\n",
      "(100000, 85)\n",
      "(100000, 85)\n",
      "(100000, 85)\n",
      "(100000, 85)\n",
      "(100000, 85)\n",
      "(100000, 85)\n",
      "(100000, 85)\n",
      "(100000, 85)\n",
      "(100000, 85)\n",
      "(100000, 85)\n"
     ]
    }
   ],
   "source": [
    "for i in file_names[1:]:\n",
    "    df_temp=pd.read_csv('/Users/jesherjoshua/Downloads/uploads/'+i)\n",
    "    print(df_temp.shape)\n",
    "    df=pd.concat([df,df_temp])"
   ]
  },
  {
   "cell_type": "code",
   "execution_count": 26,
   "metadata": {},
   "outputs": [
    {
     "data": {
      "text/plain": [
       "(5000000, 85)"
      ]
     },
     "execution_count": 26,
     "metadata": {},
     "output_type": "execute_result"
    }
   ],
   "source": [
    "df.shape"
   ]
  },
  {
   "cell_type": "code",
   "execution_count": 27,
   "metadata": {},
   "outputs": [],
   "source": [
    "df.to_parquet('kaggle_original_train.parquet')"
   ]
  },
  {
   "cell_type": "code",
   "execution_count": 28,
   "metadata": {},
   "outputs": [],
   "source": [
    "par=pd.read_parquet('kaggle_original_train.parquet')"
   ]
  },
  {
   "cell_type": "code",
   "execution_count": 29,
   "metadata": {},
   "outputs": [
    {
     "data": {
      "text/html": [
       "<div>\n",
       "<style scoped>\n",
       "    .dataframe tbody tr th:only-of-type {\n",
       "        vertical-align: middle;\n",
       "    }\n",
       "\n",
       "    .dataframe tbody tr th {\n",
       "        vertical-align: top;\n",
       "    }\n",
       "\n",
       "    .dataframe thead th {\n",
       "        text-align: right;\n",
       "    }\n",
       "</style>\n",
       "<table border=\"1\" class=\"dataframe\">\n",
       "  <thead>\n",
       "    <tr style=\"text-align: right;\">\n",
       "      <th></th>\n",
       "      <th>machine_id</th>\n",
       "      <th>security_product_name</th>\n",
       "      <th>machine_version</th>\n",
       "      <th>app_version</th>\n",
       "      <th>av_sig_version</th>\n",
       "      <th>is_beta</th>\n",
       "      <th>rtp_state</th>\n",
       "      <th>is_sxs_passive</th>\n",
       "      <th>default_browser</th>\n",
       "      <th>av_status</th>\n",
       "      <th>...</th>\n",
       "      <th>wim_boot_status</th>\n",
       "      <th>virtual_dev_status</th>\n",
       "      <th>touch_support</th>\n",
       "      <th>pen_support</th>\n",
       "      <th>aoac_support</th>\n",
       "      <th>is_gamer</th>\n",
       "      <th>region_id</th>\n",
       "      <th>malware_status</th>\n",
       "      <th>age</th>\n",
       "      <th>sex</th>\n",
       "    </tr>\n",
       "  </thead>\n",
       "  <tbody>\n",
       "    <tr>\n",
       "      <th>0</th>\n",
       "      <td>4300000</td>\n",
       "      <td>win8defender</td>\n",
       "      <td>1.1.15200.1</td>\n",
       "      <td>4.8.10240.17443</td>\n",
       "      <td>1.275.281.0</td>\n",
       "      <td>0</td>\n",
       "      <td>7.0</td>\n",
       "      <td>0</td>\n",
       "      <td>NaN</td>\n",
       "      <td>53447.0</td>\n",
       "      <td>...</td>\n",
       "      <td>0.0</td>\n",
       "      <td>0.0</td>\n",
       "      <td>0</td>\n",
       "      <td>0</td>\n",
       "      <td>0.0</td>\n",
       "      <td>0.0</td>\n",
       "      <td>1.0</td>\n",
       "      <td>0</td>\n",
       "      <td>41.845023</td>\n",
       "      <td>Male</td>\n",
       "    </tr>\n",
       "    <tr>\n",
       "      <th>1</th>\n",
       "      <td>4300001</td>\n",
       "      <td>win8defender</td>\n",
       "      <td>1.1.15100.1</td>\n",
       "      <td>4.18.1806.18062</td>\n",
       "      <td>1.273.512.0</td>\n",
       "      <td>0</td>\n",
       "      <td>7.0</td>\n",
       "      <td>0</td>\n",
       "      <td>NaN</td>\n",
       "      <td>53447.0</td>\n",
       "      <td>...</td>\n",
       "      <td>NaN</td>\n",
       "      <td>0.0</td>\n",
       "      <td>0</td>\n",
       "      <td>0</td>\n",
       "      <td>0.0</td>\n",
       "      <td>1.0</td>\n",
       "      <td>3.0</td>\n",
       "      <td>1</td>\n",
       "      <td>44.207637</td>\n",
       "      <td>Female</td>\n",
       "    </tr>\n",
       "    <tr>\n",
       "      <th>2</th>\n",
       "      <td>4300002</td>\n",
       "      <td>win8defender</td>\n",
       "      <td>1.1.15200.1</td>\n",
       "      <td>4.18.1807.18075</td>\n",
       "      <td>1.275.1198.0</td>\n",
       "      <td>0</td>\n",
       "      <td>7.0</td>\n",
       "      <td>0</td>\n",
       "      <td>NaN</td>\n",
       "      <td>53447.0</td>\n",
       "      <td>...</td>\n",
       "      <td>NaN</td>\n",
       "      <td>0.0</td>\n",
       "      <td>0</td>\n",
       "      <td>0</td>\n",
       "      <td>0.0</td>\n",
       "      <td>0.0</td>\n",
       "      <td>15.0</td>\n",
       "      <td>0</td>\n",
       "      <td>42.366857</td>\n",
       "      <td>Female</td>\n",
       "    </tr>\n",
       "    <tr>\n",
       "      <th>3</th>\n",
       "      <td>4300003</td>\n",
       "      <td>win8defender</td>\n",
       "      <td>1.1.15200.1</td>\n",
       "      <td>4.18.1807.18075</td>\n",
       "      <td>1.275.1509.0</td>\n",
       "      <td>0</td>\n",
       "      <td>7.0</td>\n",
       "      <td>0</td>\n",
       "      <td>NaN</td>\n",
       "      <td>53447.0</td>\n",
       "      <td>...</td>\n",
       "      <td>0.0</td>\n",
       "      <td>0.0</td>\n",
       "      <td>0</td>\n",
       "      <td>0</td>\n",
       "      <td>0.0</td>\n",
       "      <td>0.0</td>\n",
       "      <td>11.0</td>\n",
       "      <td>1</td>\n",
       "      <td>38.020295</td>\n",
       "      <td>Female</td>\n",
       "    </tr>\n",
       "    <tr>\n",
       "      <th>4</th>\n",
       "      <td>4300004</td>\n",
       "      <td>win8defender</td>\n",
       "      <td>1.1.15100.1</td>\n",
       "      <td>4.18.1806.18062</td>\n",
       "      <td>1.273.356.0</td>\n",
       "      <td>0</td>\n",
       "      <td>7.0</td>\n",
       "      <td>0</td>\n",
       "      <td>NaN</td>\n",
       "      <td>53447.0</td>\n",
       "      <td>...</td>\n",
       "      <td>NaN</td>\n",
       "      <td>0.0</td>\n",
       "      <td>0</td>\n",
       "      <td>0</td>\n",
       "      <td>0.0</td>\n",
       "      <td>NaN</td>\n",
       "      <td>NaN</td>\n",
       "      <td>1</td>\n",
       "      <td>53.077069</td>\n",
       "      <td>Male</td>\n",
       "    </tr>\n",
       "  </tbody>\n",
       "</table>\n",
       "<p>5 rows × 85 columns</p>\n",
       "</div>"
      ],
      "text/plain": [
       "   machine_id security_product_name machine_version      app_version  \\\n",
       "0     4300000          win8defender     1.1.15200.1  4.8.10240.17443   \n",
       "1     4300001          win8defender     1.1.15100.1  4.18.1806.18062   \n",
       "2     4300002          win8defender     1.1.15200.1  4.18.1807.18075   \n",
       "3     4300003          win8defender     1.1.15200.1  4.18.1807.18075   \n",
       "4     4300004          win8defender     1.1.15100.1  4.18.1806.18062   \n",
       "\n",
       "  av_sig_version  is_beta  rtp_state  is_sxs_passive  default_browser  \\\n",
       "0    1.275.281.0        0        7.0               0              NaN   \n",
       "1    1.273.512.0        0        7.0               0              NaN   \n",
       "2   1.275.1198.0        0        7.0               0              NaN   \n",
       "3   1.275.1509.0        0        7.0               0              NaN   \n",
       "4    1.273.356.0        0        7.0               0              NaN   \n",
       "\n",
       "   av_status  ...  wim_boot_status  virtual_dev_status  touch_support  \\\n",
       "0    53447.0  ...              0.0                 0.0              0   \n",
       "1    53447.0  ...              NaN                 0.0              0   \n",
       "2    53447.0  ...              NaN                 0.0              0   \n",
       "3    53447.0  ...              0.0                 0.0              0   \n",
       "4    53447.0  ...              NaN                 0.0              0   \n",
       "\n",
       "   pen_support  aoac_support  is_gamer  region_id  malware_status        age  \\\n",
       "0            0           0.0       0.0        1.0               0  41.845023   \n",
       "1            0           0.0       1.0        3.0               1  44.207637   \n",
       "2            0           0.0       0.0       15.0               0  42.366857   \n",
       "3            0           0.0       0.0       11.0               1  38.020295   \n",
       "4            0           0.0       NaN        NaN               1  53.077069   \n",
       "\n",
       "      sex  \n",
       "0    Male  \n",
       "1  Female  \n",
       "2  Female  \n",
       "3  Female  \n",
       "4    Male  \n",
       "\n",
       "[5 rows x 85 columns]"
      ]
     },
     "execution_count": 29,
     "metadata": {},
     "output_type": "execute_result"
    }
   ],
   "source": [
    "par.head()"
   ]
  },
  {
   "cell_type": "code",
   "execution_count": null,
   "metadata": {},
   "outputs": [],
   "source": []
  }
 ],
 "metadata": {
  "kernelspec": {
   "display_name": "Python 3.8.9 64-bit",
   "language": "python",
   "name": "python3"
  },
  "language_info": {
   "codemirror_mode": {
    "name": "ipython",
    "version": 3
   },
   "file_extension": ".py",
   "mimetype": "text/x-python",
   "name": "python",
   "nbconvert_exporter": "python",
   "pygments_lexer": "ipython3",
   "version": "3.8.10"
  },
  "orig_nbformat": 4,
  "vscode": {
   "interpreter": {
    "hash": "31f2aee4e71d21fbe5cf8b01ff0e069b9275f58929596ceb00d14d90e3e16cd6"
   }
  }
 },
 "nbformat": 4,
 "nbformat_minor": 2
}
