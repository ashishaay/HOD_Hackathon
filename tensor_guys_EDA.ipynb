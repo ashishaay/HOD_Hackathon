{
  "cells": [
    {
      "cell_type": "code",
      "execution_count": 1,
      "metadata": {
        "id": "246IPWiHAht-"
      },
      "outputs": [],
      "source": [
        "import pandas as pd\n",
        "import numpy as np\n",
        "import sklearn as skl\n",
        "from sklearn import preprocessing\n",
        "import matplotlib.pyplot as plt\n",
        "import seaborn as sns\n"
      ]
    },
    {
      "cell_type": "markdown",
      "metadata": {},
      "source": [
        "# Importing the Datasets"
      ]
    },
    {
      "cell_type": "code",
      "execution_count": 2,
      "metadata": {
        "id": "oV8KhA6OeuQy"
      },
      "outputs": [],
      "source": [
        "df = pd.read_parquet(r\"D:\\hackathon_HOD\\kaggle_original_train.parquet\")\n"
      ]
    },
    {
      "cell_type": "code",
      "execution_count": 3,
      "metadata": {
        "colab": {
          "base_uri": "https://localhost:8080/",
          "height": 331
        },
        "id": "efyP4oQ2e_ts",
        "outputId": "acf78f81-e62f-4d81-bb0f-1c450907c0e3"
      },
      "outputs": [
        {
          "data": {
            "text/html": [
              "<div>\n",
              "<style scoped>\n",
              "    .dataframe tbody tr th:only-of-type {\n",
              "        vertical-align: middle;\n",
              "    }\n",
              "\n",
              "    .dataframe tbody tr th {\n",
              "        vertical-align: top;\n",
              "    }\n",
              "\n",
              "    .dataframe thead th {\n",
              "        text-align: right;\n",
              "    }\n",
              "</style>\n",
              "<table border=\"1\" class=\"dataframe\">\n",
              "  <thead>\n",
              "    <tr style=\"text-align: right;\">\n",
              "      <th></th>\n",
              "      <th>machine_id</th>\n",
              "      <th>security_product_name</th>\n",
              "      <th>machine_version</th>\n",
              "      <th>app_version</th>\n",
              "      <th>av_sig_version</th>\n",
              "      <th>is_beta</th>\n",
              "      <th>rtp_state</th>\n",
              "      <th>is_sxs_passive</th>\n",
              "      <th>default_browser</th>\n",
              "      <th>av_status</th>\n",
              "      <th>...</th>\n",
              "      <th>wim_boot_status</th>\n",
              "      <th>virtual_dev_status</th>\n",
              "      <th>touch_support</th>\n",
              "      <th>pen_support</th>\n",
              "      <th>aoac_support</th>\n",
              "      <th>is_gamer</th>\n",
              "      <th>region_id</th>\n",
              "      <th>malware_status</th>\n",
              "      <th>age</th>\n",
              "      <th>sex</th>\n",
              "    </tr>\n",
              "  </thead>\n",
              "  <tbody>\n",
              "    <tr>\n",
              "      <th>0</th>\n",
              "      <td>4300000</td>\n",
              "      <td>win8defender</td>\n",
              "      <td>1.1.15200.1</td>\n",
              "      <td>4.8.10240.17443</td>\n",
              "      <td>1.275.281.0</td>\n",
              "      <td>0</td>\n",
              "      <td>7.0</td>\n",
              "      <td>0</td>\n",
              "      <td>NaN</td>\n",
              "      <td>53447.0</td>\n",
              "      <td>...</td>\n",
              "      <td>0.0</td>\n",
              "      <td>0.0</td>\n",
              "      <td>0</td>\n",
              "      <td>0</td>\n",
              "      <td>0.0</td>\n",
              "      <td>0.0</td>\n",
              "      <td>1.0</td>\n",
              "      <td>0</td>\n",
              "      <td>41.845023</td>\n",
              "      <td>Male</td>\n",
              "    </tr>\n",
              "    <tr>\n",
              "      <th>1</th>\n",
              "      <td>4300001</td>\n",
              "      <td>win8defender</td>\n",
              "      <td>1.1.15100.1</td>\n",
              "      <td>4.18.1806.18062</td>\n",
              "      <td>1.273.512.0</td>\n",
              "      <td>0</td>\n",
              "      <td>7.0</td>\n",
              "      <td>0</td>\n",
              "      <td>NaN</td>\n",
              "      <td>53447.0</td>\n",
              "      <td>...</td>\n",
              "      <td>NaN</td>\n",
              "      <td>0.0</td>\n",
              "      <td>0</td>\n",
              "      <td>0</td>\n",
              "      <td>0.0</td>\n",
              "      <td>1.0</td>\n",
              "      <td>3.0</td>\n",
              "      <td>1</td>\n",
              "      <td>44.207637</td>\n",
              "      <td>Female</td>\n",
              "    </tr>\n",
              "    <tr>\n",
              "      <th>2</th>\n",
              "      <td>4300002</td>\n",
              "      <td>win8defender</td>\n",
              "      <td>1.1.15200.1</td>\n",
              "      <td>4.18.1807.18075</td>\n",
              "      <td>1.275.1198.0</td>\n",
              "      <td>0</td>\n",
              "      <td>7.0</td>\n",
              "      <td>0</td>\n",
              "      <td>NaN</td>\n",
              "      <td>53447.0</td>\n",
              "      <td>...</td>\n",
              "      <td>NaN</td>\n",
              "      <td>0.0</td>\n",
              "      <td>0</td>\n",
              "      <td>0</td>\n",
              "      <td>0.0</td>\n",
              "      <td>0.0</td>\n",
              "      <td>15.0</td>\n",
              "      <td>0</td>\n",
              "      <td>42.366857</td>\n",
              "      <td>Female</td>\n",
              "    </tr>\n",
              "    <tr>\n",
              "      <th>3</th>\n",
              "      <td>4300003</td>\n",
              "      <td>win8defender</td>\n",
              "      <td>1.1.15200.1</td>\n",
              "      <td>4.18.1807.18075</td>\n",
              "      <td>1.275.1509.0</td>\n",
              "      <td>0</td>\n",
              "      <td>7.0</td>\n",
              "      <td>0</td>\n",
              "      <td>NaN</td>\n",
              "      <td>53447.0</td>\n",
              "      <td>...</td>\n",
              "      <td>0.0</td>\n",
              "      <td>0.0</td>\n",
              "      <td>0</td>\n",
              "      <td>0</td>\n",
              "      <td>0.0</td>\n",
              "      <td>0.0</td>\n",
              "      <td>11.0</td>\n",
              "      <td>1</td>\n",
              "      <td>38.020295</td>\n",
              "      <td>Female</td>\n",
              "    </tr>\n",
              "    <tr>\n",
              "      <th>4</th>\n",
              "      <td>4300004</td>\n",
              "      <td>win8defender</td>\n",
              "      <td>1.1.15100.1</td>\n",
              "      <td>4.18.1806.18062</td>\n",
              "      <td>1.273.356.0</td>\n",
              "      <td>0</td>\n",
              "      <td>7.0</td>\n",
              "      <td>0</td>\n",
              "      <td>NaN</td>\n",
              "      <td>53447.0</td>\n",
              "      <td>...</td>\n",
              "      <td>NaN</td>\n",
              "      <td>0.0</td>\n",
              "      <td>0</td>\n",
              "      <td>0</td>\n",
              "      <td>0.0</td>\n",
              "      <td>NaN</td>\n",
              "      <td>NaN</td>\n",
              "      <td>1</td>\n",
              "      <td>53.077069</td>\n",
              "      <td>Male</td>\n",
              "    </tr>\n",
              "  </tbody>\n",
              "</table>\n",
              "<p>5 rows × 85 columns</p>\n",
              "</div>"
            ],
            "text/plain": [
              "   machine_id security_product_name machine_version      app_version  \\\n",
              "0     4300000          win8defender     1.1.15200.1  4.8.10240.17443   \n",
              "1     4300001          win8defender     1.1.15100.1  4.18.1806.18062   \n",
              "2     4300002          win8defender     1.1.15200.1  4.18.1807.18075   \n",
              "3     4300003          win8defender     1.1.15200.1  4.18.1807.18075   \n",
              "4     4300004          win8defender     1.1.15100.1  4.18.1806.18062   \n",
              "\n",
              "  av_sig_version  is_beta  rtp_state  is_sxs_passive  default_browser  \\\n",
              "0    1.275.281.0        0        7.0               0              NaN   \n",
              "1    1.273.512.0        0        7.0               0              NaN   \n",
              "2   1.275.1198.0        0        7.0               0              NaN   \n",
              "3   1.275.1509.0        0        7.0               0              NaN   \n",
              "4    1.273.356.0        0        7.0               0              NaN   \n",
              "\n",
              "   av_status  ...  wim_boot_status  virtual_dev_status  touch_support  \\\n",
              "0    53447.0  ...              0.0                 0.0              0   \n",
              "1    53447.0  ...              NaN                 0.0              0   \n",
              "2    53447.0  ...              NaN                 0.0              0   \n",
              "3    53447.0  ...              0.0                 0.0              0   \n",
              "4    53447.0  ...              NaN                 0.0              0   \n",
              "\n",
              "   pen_support  aoac_support  is_gamer  region_id  malware_status        age  \\\n",
              "0            0           0.0       0.0        1.0               0  41.845023   \n",
              "1            0           0.0       1.0        3.0               1  44.207637   \n",
              "2            0           0.0       0.0       15.0               0  42.366857   \n",
              "3            0           0.0       0.0       11.0               1  38.020295   \n",
              "4            0           0.0       NaN        NaN               1  53.077069   \n",
              "\n",
              "      sex  \n",
              "0    Male  \n",
              "1  Female  \n",
              "2  Female  \n",
              "3  Female  \n",
              "4    Male  \n",
              "\n",
              "[5 rows x 85 columns]"
            ]
          },
          "execution_count": 3,
          "metadata": {},
          "output_type": "execute_result"
        }
      ],
      "source": [
        "df.head()\n"
      ]
    },
    {
      "cell_type": "code",
      "execution_count": 8,
      "metadata": {
        "colab": {
          "base_uri": "https://localhost:8080/"
        },
        "id": "Ph5b7ZGM8XZb",
        "outputId": "5d77a2ce-8bcc-4bd2-bcae-465a20dad002"
      },
      "outputs": [
        {
          "data": {
            "text/plain": [
              "array([0, 1], dtype=int8)"
            ]
          },
          "execution_count": 8,
          "metadata": {},
          "output_type": "execute_result"
        }
      ],
      "source": [
        "df.is_beta.unique()"
      ]
    },
    {
      "cell_type": "code",
      "execution_count": 5,
      "metadata": {
        "colab": {
          "base_uri": "https://localhost:8080/"
        },
        "id": "EdNZzupbfnw0",
        "outputId": "c71017a9-2f9a-4cf1-88c3-ce4a05686963"
      },
      "outputs": [
        {
          "data": {
            "text/plain": [
              "(5000000, 85)"
            ]
          },
          "execution_count": 5,
          "metadata": {},
          "output_type": "execute_result"
        }
      ],
      "source": [
        "df.shape"
      ]
    },
    {
      "cell_type": "code",
      "execution_count": 6,
      "metadata": {
        "colab": {
          "base_uri": "https://localhost:8080/"
        },
        "id": "gQMNyGtZgA2I",
        "outputId": "3d331003-a1c7-45c5-aab9-093c129463d5"
      },
      "outputs": [
        {
          "data": {
            "text/plain": [
              "dtype('O')"
            ]
          },
          "execution_count": 6,
          "metadata": {},
          "output_type": "execute_result"
        }
      ],
      "source": [
        "#type of objects\n",
        "typ=df['security_product_name'].dtype\n",
        "typ"
      ]
    },
    {
      "cell_type": "code",
      "execution_count": null,
      "metadata": {
        "colab": {
          "base_uri": "https://localhost:8080/"
        },
        "id": "dEzMh6PLfo8e",
        "outputId": "cca6b6da-e1b1-473e-d1a8-6eb64ccc9a1c"
      },
      "outputs": [],
      "source": [
        "        "
      ]
    },
    {
      "cell_type": "markdown",
      "metadata": {},
      "source": [
        "# Checking and Dropping the Columns with more than 50% of the Null Values"
      ]
    },
    {
      "cell_type": "code",
      "execution_count": 4,
      "metadata": {},
      "outputs": [
        {
          "data": {
            "text/plain": [
              "Index(['default_browser', 'pua_mode', 'processor_class', 'battery_type',\n",
              "       'flighting_status', 'threshold_choice', 'wim_boot_status'],\n",
              "      dtype='object')"
            ]
          },
          "execution_count": 4,
          "metadata": {},
          "output_type": "execute_result"
        }
      ],
      "source": [
        "null_percent=df.isnull().sum()/df.shape[0]*100\n",
        "null_percent\n",
        "col_drop=null_percent[null_percent>50].keys()\n",
        "col_drop"
      ]
    },
    {
      "cell_type": "code",
      "execution_count": 5,
      "metadata": {},
      "outputs": [],
      "source": [
        "df.drop(col_drop, axis=1, inplace=True)"
      ]
    },
    {
      "cell_type": "markdown",
      "metadata": {},
      "source": [
        "# After Dropping we need to Encode the String Values"
      ]
    },
    {
      "cell_type": "code",
      "execution_count": 7,
      "metadata": {},
      "outputs": [
        {
          "data": {
            "text/plain": [
              "27"
            ]
          },
          "execution_count": 7,
          "metadata": {},
          "output_type": "execute_result"
        }
      ],
      "source": [
        "object_col_list=[]\n",
        "for i in df.columns:\n",
        "    if df[i].dtype==object:\n",
        "        object_col_list.append(i)\n",
        "len(object_col_list)"
      ]
    },
    {
      "cell_type": "code",
      "execution_count": 8,
      "metadata": {},
      "outputs": [],
      "source": [
        "l_encoder = preprocessing.LabelEncoder()\n",
        "\n",
        "for element in object_col_list:\n",
        "    df[element] = l_encoder.fit_transform(df[element])"
      ]
    },
    {
      "cell_type": "code",
      "execution_count": 11,
      "metadata": {
        "colab": {
          "base_uri": "https://localhost:8080/"
        },
        "id": "XbsCQV7AyEFA",
        "outputId": "b57ac4cb-8cda-49a1-97ae-fa5ba99bdd19"
      },
      "outputs": [
        {
          "data": {
            "text/plain": [
              "5000000"
            ]
          },
          "execution_count": 11,
          "metadata": {},
          "output_type": "execute_result"
        }
      ],
      "source": [
        "len(df)"
      ]
    },
    {
      "cell_type": "code",
      "execution_count": null,
      "metadata": {
        "id": "mezwiuixv-ju"
      },
      "outputs": [],
      "source": []
    },
    {
      "cell_type": "code",
      "execution_count": 16,
      "metadata": {
        "colab": {
          "base_uri": "https://localhost:8080/",
          "height": 331
        },
        "id": "e1B8FwTTxjmN",
        "outputId": "ba4c7264-7091-45de-decc-147cc70353cd"
      },
      "outputs": [
        {
          "data": {
            "text/html": [
              "<div>\n",
              "<style scoped>\n",
              "    .dataframe tbody tr th:only-of-type {\n",
              "        vertical-align: middle;\n",
              "    }\n",
              "\n",
              "    .dataframe tbody tr th {\n",
              "        vertical-align: top;\n",
              "    }\n",
              "\n",
              "    .dataframe thead th {\n",
              "        text-align: right;\n",
              "    }\n",
              "</style>\n",
              "<table border=\"1\" class=\"dataframe\">\n",
              "  <thead>\n",
              "    <tr style=\"text-align: right;\">\n",
              "      <th></th>\n",
              "      <th>security_product_name</th>\n",
              "      <th>machine_version</th>\n",
              "      <th>app_version</th>\n",
              "      <th>av_sig_version</th>\n",
              "      <th>is_beta</th>\n",
              "      <th>rtp_state</th>\n",
              "      <th>is_sxs_passive</th>\n",
              "      <th>av_status</th>\n",
              "      <th>av_prod_installed</th>\n",
              "      <th>av_prod_enabled</th>\n",
              "      <th>...</th>\n",
              "      <th>firmware_version_id</th>\n",
              "      <th>secure_boot_status</th>\n",
              "      <th>virtual_dev_status</th>\n",
              "      <th>touch_support</th>\n",
              "      <th>pen_support</th>\n",
              "      <th>aoac_support</th>\n",
              "      <th>is_gamer</th>\n",
              "      <th>region_id</th>\n",
              "      <th>malware_status</th>\n",
              "      <th>machine_id</th>\n",
              "    </tr>\n",
              "    <tr>\n",
              "      <th>__null_dask_index__</th>\n",
              "      <th></th>\n",
              "      <th></th>\n",
              "      <th></th>\n",
              "      <th></th>\n",
              "      <th></th>\n",
              "      <th></th>\n",
              "      <th></th>\n",
              "      <th></th>\n",
              "      <th></th>\n",
              "      <th></th>\n",
              "      <th></th>\n",
              "      <th></th>\n",
              "      <th></th>\n",
              "      <th></th>\n",
              "      <th></th>\n",
              "      <th></th>\n",
              "      <th></th>\n",
              "      <th></th>\n",
              "      <th></th>\n",
              "      <th></th>\n",
              "      <th></th>\n",
              "    </tr>\n",
              "  </thead>\n",
              "  <tbody>\n",
              "    <tr>\n",
              "      <th>0</th>\n",
              "      <td>4</td>\n",
              "      <td>63</td>\n",
              "      <td>59</td>\n",
              "      <td>7676</td>\n",
              "      <td>0</td>\n",
              "      <td>7.0</td>\n",
              "      <td>0</td>\n",
              "      <td>53447.0</td>\n",
              "      <td>1.0</td>\n",
              "      <td>1.0</td>\n",
              "      <td>...</td>\n",
              "      <td>36144.0</td>\n",
              "      <td>0</td>\n",
              "      <td>0.0</td>\n",
              "      <td>0</td>\n",
              "      <td>0</td>\n",
              "      <td>0.0</td>\n",
              "      <td>0.0</td>\n",
              "      <td>10.0</td>\n",
              "      <td>0</td>\n",
              "      <td>1</td>\n",
              "    </tr>\n",
              "    <tr>\n",
              "      <th>0</th>\n",
              "      <td>4</td>\n",
              "      <td>64</td>\n",
              "      <td>59</td>\n",
              "      <td>8042</td>\n",
              "      <td>0</td>\n",
              "      <td>7.0</td>\n",
              "      <td>0</td>\n",
              "      <td>53447.0</td>\n",
              "      <td>1.0</td>\n",
              "      <td>1.0</td>\n",
              "      <td>...</td>\n",
              "      <td>33778.0</td>\n",
              "      <td>0</td>\n",
              "      <td>0.0</td>\n",
              "      <td>0</td>\n",
              "      <td>0</td>\n",
              "      <td>0.0</td>\n",
              "      <td>0.0</td>\n",
              "      <td>9.0</td>\n",
              "      <td>0</td>\n",
              "      <td>3</td>\n",
              "    </tr>\n",
              "    <tr>\n",
              "      <th>0</th>\n",
              "      <td>4</td>\n",
              "      <td>64</td>\n",
              "      <td>59</td>\n",
              "      <td>8244</td>\n",
              "      <td>0</td>\n",
              "      <td>7.0</td>\n",
              "      <td>0</td>\n",
              "      <td>53447.0</td>\n",
              "      <td>1.0</td>\n",
              "      <td>1.0</td>\n",
              "      <td>...</td>\n",
              "      <td>2562.0</td>\n",
              "      <td>0</td>\n",
              "      <td>0.0</td>\n",
              "      <td>0</td>\n",
              "      <td>0</td>\n",
              "      <td>0.0</td>\n",
              "      <td>0.0</td>\n",
              "      <td>11.0</td>\n",
              "      <td>1</td>\n",
              "      <td>4</td>\n",
              "    </tr>\n",
              "    <tr>\n",
              "      <th>0</th>\n",
              "      <td>4</td>\n",
              "      <td>36</td>\n",
              "      <td>13</td>\n",
              "      <td>3614</td>\n",
              "      <td>0</td>\n",
              "      <td>7.0</td>\n",
              "      <td>0</td>\n",
              "      <td>34048.0</td>\n",
              "      <td>2.0</td>\n",
              "      <td>1.0</td>\n",
              "      <td>...</td>\n",
              "      <td>15689.0</td>\n",
              "      <td>1</td>\n",
              "      <td>0.0</td>\n",
              "      <td>0</td>\n",
              "      <td>0</td>\n",
              "      <td>0.0</td>\n",
              "      <td>0.0</td>\n",
              "      <td>8.0</td>\n",
              "      <td>1</td>\n",
              "      <td>7</td>\n",
              "    </tr>\n",
              "    <tr>\n",
              "      <th>0</th>\n",
              "      <td>4</td>\n",
              "      <td>63</td>\n",
              "      <td>0</td>\n",
              "      <td>7545</td>\n",
              "      <td>0</td>\n",
              "      <td>7.0</td>\n",
              "      <td>0</td>\n",
              "      <td>46413.0</td>\n",
              "      <td>2.0</td>\n",
              "      <td>1.0</td>\n",
              "      <td>...</td>\n",
              "      <td>8919.0</td>\n",
              "      <td>1</td>\n",
              "      <td>0.0</td>\n",
              "      <td>0</td>\n",
              "      <td>0</td>\n",
              "      <td>0.0</td>\n",
              "      <td>0.0</td>\n",
              "      <td>10.0</td>\n",
              "      <td>1</td>\n",
              "      <td>10</td>\n",
              "    </tr>\n",
              "  </tbody>\n",
              "</table>\n",
              "<p>5 rows × 76 columns</p>\n",
              "</div>"
            ],
            "text/plain": [
              "                     security_product_name  machine_version  app_version  \\\n",
              "__null_dask_index__                                                        \n",
              "0                                        4               63           59   \n",
              "0                                        4               64           59   \n",
              "0                                        4               64           59   \n",
              "0                                        4               36           13   \n",
              "0                                        4               63            0   \n",
              "\n",
              "                     av_sig_version  is_beta  rtp_state  is_sxs_passive  \\\n",
              "__null_dask_index__                                                       \n",
              "0                              7676        0        7.0               0   \n",
              "0                              8042        0        7.0               0   \n",
              "0                              8244        0        7.0               0   \n",
              "0                              3614        0        7.0               0   \n",
              "0                              7545        0        7.0               0   \n",
              "\n",
              "                     av_status  av_prod_installed  av_prod_enabled  ...  \\\n",
              "__null_dask_index__                                                 ...   \n",
              "0                      53447.0                1.0              1.0  ...   \n",
              "0                      53447.0                1.0              1.0  ...   \n",
              "0                      53447.0                1.0              1.0  ...   \n",
              "0                      34048.0                2.0              1.0  ...   \n",
              "0                      46413.0                2.0              1.0  ...   \n",
              "\n",
              "                     firmware_version_id  secure_boot_status  \\\n",
              "__null_dask_index__                                            \n",
              "0                                36144.0                   0   \n",
              "0                                33778.0                   0   \n",
              "0                                 2562.0                   0   \n",
              "0                                15689.0                   1   \n",
              "0                                 8919.0                   1   \n",
              "\n",
              "                     virtual_dev_status  touch_support  pen_support  \\\n",
              "__null_dask_index__                                                   \n",
              "0                                   0.0              0            0   \n",
              "0                                   0.0              0            0   \n",
              "0                                   0.0              0            0   \n",
              "0                                   0.0              0            0   \n",
              "0                                   0.0              0            0   \n",
              "\n",
              "                     aoac_support  is_gamer  region_id  malware_status  \\\n",
              "__null_dask_index__                                                      \n",
              "0                             0.0       0.0       10.0               0   \n",
              "0                             0.0       0.0        9.0               0   \n",
              "0                             0.0       0.0       11.0               1   \n",
              "0                             0.0       0.0        8.0               1   \n",
              "0                             0.0       0.0       10.0               1   \n",
              "\n",
              "                     machine_id  \n",
              "__null_dask_index__              \n",
              "0                             1  \n",
              "0                             3  \n",
              "0                             4  \n",
              "0                             7  \n",
              "0                            10  \n",
              "\n",
              "[5 rows x 76 columns]"
            ]
          },
          "execution_count": 16,
          "metadata": {},
          "output_type": "execute_result"
        }
      ],
      "source": [
        "df.head()"
      ]
    },
    {
      "cell_type": "code",
      "execution_count": 17,
      "metadata": {
        "colab": {
          "base_uri": "https://localhost:8080/"
        },
        "id": "tb6RYaxkyIF-",
        "outputId": "678a1496-9e48-472d-867e-3581db0ccd2e"
      },
      "outputs": [
        {
          "data": {
            "text/plain": [
              "5950285"
            ]
          },
          "execution_count": 17,
          "metadata": {},
          "output_type": "execute_result"
        }
      ],
      "source": [
        "len(df)"
      ]
    },
    {
      "cell_type": "code",
      "execution_count": 18,
      "metadata": {
        "colab": {
          "base_uri": "https://localhost:8080/"
        },
        "id": "hMkYoQ8vy7Nv",
        "outputId": "50ea0355-520c-4719-be9f-8ffc2b841c34"
      },
      "outputs": [
        {
          "name": "stdout",
          "output_type": "stream",
          "text": [
            "<class 'pandas.core.frame.DataFrame'>\n",
            "Int64Index: 5950285 entries, 0 to 131216\n",
            "Data columns (total 76 columns):\n",
            " #   Column                         Dtype  \n",
            "---  ------                         -----  \n",
            " 0   security_product_name          int32  \n",
            " 1   machine_version                int32  \n",
            " 2   app_version                    int32  \n",
            " 3   av_sig_version                 int32  \n",
            " 4   is_beta                        int8   \n",
            " 5   rtp_state                      float32\n",
            " 6   is_sxs_passive                 int8   \n",
            " 7   av_status                      float32\n",
            " 8   av_prod_installed              float32\n",
            " 9   av_prod_enabled                float32\n",
            " 10  has_tpm                        int8   \n",
            " 11  country_id                     int16  \n",
            " 12  city_id                        float32\n",
            " 13  org_id                         float32\n",
            " 14  geo_id                         float32\n",
            " 15  local_name_id                  int8   \n",
            " 16  platform                       int32  \n",
            " 17  processor                      int32  \n",
            " 18  os_version                     int32  \n",
            " 19  os_build                       int16  \n",
            " 20  os_suite                       int16  \n",
            " 21  os_ptfm_sub_release            int32  \n",
            " 22  os_build_lab                   int32  \n",
            " 23  sku_edition                    int32  \n",
            " 24  is_protected                   float32\n",
            " 25  auto_sample_opt_in             int8   \n",
            " 26  s_mode                         float32\n",
            " 27  ie_ver_id                      float32\n",
            " 28  smart_screen                   int32  \n",
            " 29  firewall                       float32\n",
            " 30  uac_luaenable                  float32\n",
            " 31  mdc2_form_factor               int32  \n",
            " 32  device_family                  int32  \n",
            " 33  name_id                        float32\n",
            " 34  oem_model_id                   float32\n",
            " 35  core_count_processer           float32\n",
            " 36  manufacturer_id                float32\n",
            " 37  model_id                       float32\n",
            " 38  disk_capacity                  float32\n",
            " 39  disk_type                      int32  \n",
            " 40  system_volume_capacity         float32\n",
            " 41  has_optical_drive              int8   \n",
            " 42  ram_capacity                   float32\n",
            " 43  chassis_type                   int32  \n",
            " 44  diagonal_display_size          float32\n",
            " 45  display_resolution_horizontal  float32\n",
            " 46  display_resolution_vertical    float32\n",
            " 47  power_profile                  int32  \n",
            " 48  number_of_charges_for_battery  float32\n",
            " 49  version                        int32  \n",
            " 50  architecture                   int32  \n",
            " 51  branch                         int32  \n",
            " 52  build_number                   int16  \n",
            " 53  build_revision                 int32  \n",
            " 54  edition                        int32  \n",
            " 55  sku                            int32  \n",
            " 56  install_type_name              int32  \n",
            " 57  install_language_identifier    float32\n",
            " 58  ui_locale_identifier           int16  \n",
            " 59  auto_update_opt                int32  \n",
            " 60  os_type_status                 int8   \n",
            " 61  state_name                     int32  \n",
            " 62  activation_channel             int32  \n",
            " 63  flights_activity               float32\n",
            " 64  flight_ring                    int32  \n",
            " 65  firmware_manufacturer_id       float32\n",
            " 66  firmware_version_id            float32\n",
            " 67  secure_boot_status             int8   \n",
            " 68  virtual_dev_status             float32\n",
            " 69  touch_support                  int8   \n",
            " 70  pen_support                    int8   \n",
            " 71  aoac_support                   float32\n",
            " 72  is_gamer                       float32\n",
            " 73  region_id                      float32\n",
            " 74  malware_status                 int8   \n",
            " 75  machine_id                     int64  \n",
            "dtypes: float32(32), int16(5), int32(27), int64(1), int8(11)\n",
            "memory usage: 1.5 GB\n"
          ]
        }
      ],
      "source": [
        "df.info()"
      ]
    },
    {
      "cell_type": "code",
      "execution_count": 12,
      "metadata": {
        "colab": {
          "base_uri": "https://localhost:8080/"
        },
        "id": "1nDSmlahy9xa",
        "outputId": "7756f7c3-9d3b-4995-a9e5-830cf7b0f812"
      },
      "outputs": [
        {
          "data": {
            "text/plain": [
              "machine_id                    0\n",
              "security_product_name         0\n",
              "machine_version               0\n",
              "app_version                   0\n",
              "av_sig_version                0\n",
              "                          ...  \n",
              "is_gamer                 170654\n",
              "region_id                170654\n",
              "malware_status                0\n",
              "age                           0\n",
              "sex                           0\n",
              "Length: 78, dtype: int64"
            ]
          },
          "execution_count": 12,
          "metadata": {},
          "output_type": "execute_result"
        }
      ],
      "source": [
        "df.isna().sum()"
      ]
    },
    {
      "cell_type": "markdown",
      "metadata": {},
      "source": [
        "# Here, we are checking for the Categorical or Numerical Data"
      ]
    },
    {
      "cell_type": "code",
      "execution_count": 20,
      "metadata": {},
      "outputs": [],
      "source": [
        "num_unique = []\n",
        "\n",
        "for col in df.columns:\n",
        "    num_unique.append(len(df[col].unique()))\n"
      ]
    },
    {
      "cell_type": "code",
      "execution_count": 21,
      "metadata": {},
      "outputs": [
        {
          "data": {
            "text/plain": [
              "[6,\n",
              " 68,\n",
              " 108,\n",
              " 8407,\n",
              " 2,\n",
              " 8,\n",
              " 2,\n",
              " 22119,\n",
              " 8,\n",
              " 7,\n",
              " 2,\n",
              " 222,\n",
              " 94348,\n",
              " 49,\n",
              " 290,\n",
              " 251,\n",
              " 4,\n",
              " 3,\n",
              " 43,\n",
              " 68,\n",
              " 14,\n",
              " 9,\n",
              " 625,\n",
              " 8,\n",
              " 3,\n",
              " 2,\n",
              " 3,\n",
              " 278,\n",
              " 20,\n",
              " 3,\n",
              " 10,\n",
              " 12,\n",
              " 3,\n",
              " 2306,\n",
              " 141844,\n",
              " 44,\n",
              " 7,\n",
              " 2446,\n",
              " 4383,\n",
              " 5,\n",
              " 461196,\n",
              " 2,\n",
              " 2593,\n",
              " 49,\n",
              " 748,\n",
              " 1764,\n",
              " 1370,\n",
              " 11,\n",
              " 31411,\n",
              " 430,\n",
              " 3,\n",
              " 28,\n",
              " 147,\n",
              " 268,\n",
              " 31,\n",
              " 28,\n",
              " 9,\n",
              " 40,\n",
              " 140,\n",
              " 6,\n",
              " 2,\n",
              " 5,\n",
              " 6,\n",
              " 3,\n",
              " 10,\n",
              " 628,\n",
              " 45262,\n",
              " 2,\n",
              " 3,\n",
              " 2,\n",
              " 2,\n",
              " 3,\n",
              " 3,\n",
              " 16,\n",
              " 2,\n",
              " 5950285]"
            ]
          },
          "execution_count": 21,
          "metadata": {},
          "output_type": "execute_result"
        }
      ],
      "source": [
        "num_unique"
      ]
    },
    {
      "cell_type": "code",
      "execution_count": 22,
      "metadata": {},
      "outputs": [
        {
          "name": "stdout",
          "output_type": "stream",
          "text": [
            "34\n",
            "40\n"
          ]
        }
      ],
      "source": [
        "for i in range(0,75):\n",
        "    if num_unique[i]>100000:\n",
        "        print(i)"
      ]
    },
    {
      "cell_type": "code",
      "execution_count": 23,
      "metadata": {},
      "outputs": [
        {
          "name": "stdout",
          "output_type": "stream",
          "text": [
            "141844\n",
            "461196\n"
          ]
        }
      ],
      "source": [
        "print(num_unique[34])\n",
        "print(num_unique[40])\n"
      ]
    },
    {
      "cell_type": "markdown",
      "metadata": {},
      "source": [
        "# So we Concluded that since the max unique values are 461196 which far very less from the number of rows i.e. more htan 59 lacs, this implies that all the columns are Categorical\n",
        "\n",
        "# We tried to impute the Data by various Algorithms like KNN and Random Forest, since the datset is so Huge normal methods are not suitable but since our PCs are not that powerful we are going with normal imputation technique, here Mode."
      ]
    },
    {
      "cell_type": "code",
      "execution_count": 9,
      "metadata": {},
      "outputs": [],
      "source": [
        "df.set_index(['machine_id'], inplace=True)"
      ]
    },
    {
      "cell_type": "code",
      "execution_count": 10,
      "metadata": {
        "colab": {
          "base_uri": "https://localhost:8080/",
          "height": 331
        },
        "id": "2RyDk1ymzDOq",
        "outputId": "13472efb-bb57-4431-817c-39ca8447329c"
      },
      "outputs": [
        {
          "data": {
            "text/html": [
              "<div>\n",
              "<style scoped>\n",
              "    .dataframe tbody tr th:only-of-type {\n",
              "        vertical-align: middle;\n",
              "    }\n",
              "\n",
              "    .dataframe tbody tr th {\n",
              "        vertical-align: top;\n",
              "    }\n",
              "\n",
              "    .dataframe thead th {\n",
              "        text-align: right;\n",
              "    }\n",
              "</style>\n",
              "<table border=\"1\" class=\"dataframe\">\n",
              "  <thead>\n",
              "    <tr style=\"text-align: right;\">\n",
              "      <th></th>\n",
              "      <th>security_product_name</th>\n",
              "      <th>machine_version</th>\n",
              "      <th>app_version</th>\n",
              "      <th>av_sig_version</th>\n",
              "      <th>is_beta</th>\n",
              "      <th>rtp_state</th>\n",
              "      <th>is_sxs_passive</th>\n",
              "      <th>av_status</th>\n",
              "      <th>av_prod_installed</th>\n",
              "      <th>av_prod_enabled</th>\n",
              "      <th>...</th>\n",
              "      <th>secure_boot_status</th>\n",
              "      <th>virtual_dev_status</th>\n",
              "      <th>touch_support</th>\n",
              "      <th>pen_support</th>\n",
              "      <th>aoac_support</th>\n",
              "      <th>is_gamer</th>\n",
              "      <th>region_id</th>\n",
              "      <th>malware_status</th>\n",
              "      <th>age</th>\n",
              "      <th>sex</th>\n",
              "    </tr>\n",
              "    <tr>\n",
              "      <th>machine_id</th>\n",
              "      <th></th>\n",
              "      <th></th>\n",
              "      <th></th>\n",
              "      <th></th>\n",
              "      <th></th>\n",
              "      <th></th>\n",
              "      <th></th>\n",
              "      <th></th>\n",
              "      <th></th>\n",
              "      <th></th>\n",
              "      <th></th>\n",
              "      <th></th>\n",
              "      <th></th>\n",
              "      <th></th>\n",
              "      <th></th>\n",
              "      <th></th>\n",
              "      <th></th>\n",
              "      <th></th>\n",
              "      <th></th>\n",
              "      <th></th>\n",
              "      <th></th>\n",
              "    </tr>\n",
              "  </thead>\n",
              "  <tbody>\n",
              "    <tr>\n",
              "      <th>4300000</th>\n",
              "      <td>4</td>\n",
              "      <td>65</td>\n",
              "      <td>77</td>\n",
              "      <td>8109</td>\n",
              "      <td>0</td>\n",
              "      <td>7.0</td>\n",
              "      <td>0</td>\n",
              "      <td>53447.0</td>\n",
              "      <td>1.0</td>\n",
              "      <td>1.0</td>\n",
              "      <td>...</td>\n",
              "      <td>0</td>\n",
              "      <td>0.0</td>\n",
              "      <td>0</td>\n",
              "      <td>0</td>\n",
              "      <td>0.0</td>\n",
              "      <td>0.0</td>\n",
              "      <td>1.0</td>\n",
              "      <td>0</td>\n",
              "      <td>41.845023</td>\n",
              "      <td>1</td>\n",
              "    </tr>\n",
              "    <tr>\n",
              "      <th>4300001</th>\n",
              "      <td>4</td>\n",
              "      <td>64</td>\n",
              "      <td>51</td>\n",
              "      <td>7767</td>\n",
              "      <td>0</td>\n",
              "      <td>7.0</td>\n",
              "      <td>0</td>\n",
              "      <td>53447.0</td>\n",
              "      <td>1.0</td>\n",
              "      <td>1.0</td>\n",
              "      <td>...</td>\n",
              "      <td>1</td>\n",
              "      <td>0.0</td>\n",
              "      <td>0</td>\n",
              "      <td>0</td>\n",
              "      <td>0.0</td>\n",
              "      <td>1.0</td>\n",
              "      <td>3.0</td>\n",
              "      <td>1</td>\n",
              "      <td>44.207637</td>\n",
              "      <td>0</td>\n",
              "    </tr>\n",
              "    <tr>\n",
              "      <th>4300002</th>\n",
              "      <td>4</td>\n",
              "      <td>65</td>\n",
              "      <td>57</td>\n",
              "      <td>7919</td>\n",
              "      <td>0</td>\n",
              "      <td>7.0</td>\n",
              "      <td>0</td>\n",
              "      <td>53447.0</td>\n",
              "      <td>1.0</td>\n",
              "      <td>1.0</td>\n",
              "      <td>...</td>\n",
              "      <td>1</td>\n",
              "      <td>0.0</td>\n",
              "      <td>0</td>\n",
              "      <td>0</td>\n",
              "      <td>0.0</td>\n",
              "      <td>0.0</td>\n",
              "      <td>15.0</td>\n",
              "      <td>0</td>\n",
              "      <td>42.366857</td>\n",
              "      <td>0</td>\n",
              "    </tr>\n",
              "    <tr>\n",
              "      <th>4300003</th>\n",
              "      <td>4</td>\n",
              "      <td>65</td>\n",
              "      <td>57</td>\n",
              "      <td>7985</td>\n",
              "      <td>0</td>\n",
              "      <td>7.0</td>\n",
              "      <td>0</td>\n",
              "      <td>53447.0</td>\n",
              "      <td>1.0</td>\n",
              "      <td>1.0</td>\n",
              "      <td>...</td>\n",
              "      <td>0</td>\n",
              "      <td>0.0</td>\n",
              "      <td>0</td>\n",
              "      <td>0</td>\n",
              "      <td>0.0</td>\n",
              "      <td>0.0</td>\n",
              "      <td>11.0</td>\n",
              "      <td>1</td>\n",
              "      <td>38.020295</td>\n",
              "      <td>0</td>\n",
              "    </tr>\n",
              "    <tr>\n",
              "      <th>4300004</th>\n",
              "      <td>4</td>\n",
              "      <td>64</td>\n",
              "      <td>51</td>\n",
              "      <td>7720</td>\n",
              "      <td>0</td>\n",
              "      <td>7.0</td>\n",
              "      <td>0</td>\n",
              "      <td>53447.0</td>\n",
              "      <td>1.0</td>\n",
              "      <td>1.0</td>\n",
              "      <td>...</td>\n",
              "      <td>1</td>\n",
              "      <td>0.0</td>\n",
              "      <td>0</td>\n",
              "      <td>0</td>\n",
              "      <td>0.0</td>\n",
              "      <td>0.0</td>\n",
              "      <td>10.0</td>\n",
              "      <td>1</td>\n",
              "      <td>53.077069</td>\n",
              "      <td>1</td>\n",
              "    </tr>\n",
              "  </tbody>\n",
              "</table>\n",
              "<p>5 rows × 77 columns</p>\n",
              "</div>"
            ],
            "text/plain": [
              "            security_product_name  machine_version  app_version  \\\n",
              "machine_id                                                        \n",
              "4300000                         4               65           77   \n",
              "4300001                         4               64           51   \n",
              "4300002                         4               65           57   \n",
              "4300003                         4               65           57   \n",
              "4300004                         4               64           51   \n",
              "\n",
              "            av_sig_version  is_beta  rtp_state  is_sxs_passive  av_status  \\\n",
              "machine_id                                                                  \n",
              "4300000               8109        0        7.0               0    53447.0   \n",
              "4300001               7767        0        7.0               0    53447.0   \n",
              "4300002               7919        0        7.0               0    53447.0   \n",
              "4300003               7985        0        7.0               0    53447.0   \n",
              "4300004               7720        0        7.0               0    53447.0   \n",
              "\n",
              "            av_prod_installed  av_prod_enabled  ...  secure_boot_status  \\\n",
              "machine_id                                      ...                       \n",
              "4300000                   1.0              1.0  ...                   0   \n",
              "4300001                   1.0              1.0  ...                   1   \n",
              "4300002                   1.0              1.0  ...                   1   \n",
              "4300003                   1.0              1.0  ...                   0   \n",
              "4300004                   1.0              1.0  ...                   1   \n",
              "\n",
              "            virtual_dev_status  touch_support  pen_support  aoac_support  \\\n",
              "machine_id                                                                 \n",
              "4300000                    0.0              0            0           0.0   \n",
              "4300001                    0.0              0            0           0.0   \n",
              "4300002                    0.0              0            0           0.0   \n",
              "4300003                    0.0              0            0           0.0   \n",
              "4300004                    0.0              0            0           0.0   \n",
              "\n",
              "            is_gamer  region_id  malware_status        age  sex  \n",
              "machine_id                                                       \n",
              "4300000          0.0        1.0               0  41.845023    1  \n",
              "4300001          1.0        3.0               1  44.207637    0  \n",
              "4300002          0.0       15.0               0  42.366857    0  \n",
              "4300003          0.0       11.0               1  38.020295    0  \n",
              "4300004          0.0       10.0               1  53.077069    1  \n",
              "\n",
              "[5 rows x 77 columns]"
            ]
          },
          "execution_count": 10,
          "metadata": {},
          "output_type": "execute_result"
        }
      ],
      "source": [
        "for i in df.columns:\n",
        "  if df[i].isna().sum()>0:\n",
        "    df[i].fillna(df[i].mode()[0],inplace=True)\n",
        "df.head()"
      ]
    },
    {
      "cell_type": "code",
      "execution_count": 11,
      "metadata": {},
      "outputs": [],
      "source": [
        "new_df = df\n",
        "new_df.to_parquet('New_training.parquet')"
      ]
    },
    {
      "cell_type": "code",
      "execution_count": 26,
      "metadata": {
        "colab": {
          "base_uri": "https://localhost:8080/"
        },
        "id": "OCR3qf2y0GCg",
        "outputId": "f17b4558-d257-4120-b328-bd1d51cc2abd"
      },
      "outputs": [],
      "source": [
        "#df.isnull().sum()"
      ]
    },
    {
      "cell_type": "code",
      "execution_count": 27,
      "metadata": {},
      "outputs": [
        {
          "data": {
            "text/plain": [
              "0"
            ]
          },
          "execution_count": 27,
          "metadata": {},
          "output_type": "execute_result"
        }
      ],
      "source": [
        "df['region_id'].isnull().sum()"
      ]
    },
    {
      "cell_type": "code",
      "execution_count": null,
      "metadata": {},
      "outputs": [],
      "source": []
    },
    {
      "cell_type": "code",
      "execution_count": 28,
      "metadata": {},
      "outputs": [
        {
          "data": {
            "text/plain": [
              "array([0, 1], dtype=int8)"
            ]
          },
          "execution_count": 28,
          "metadata": {},
          "output_type": "execute_result"
        }
      ],
      "source": [
        "df.is_beta.unique()"
      ]
    },
    {
      "cell_type": "code",
      "execution_count": 29,
      "metadata": {
        "colab": {
          "base_uri": "https://localhost:8080/"
        },
        "id": "N3IQMtN40wrv",
        "outputId": "4e9e4b02-3cb0-470f-f29b-7974f10a774e"
      },
      "outputs": [
        {
          "name": "stdout",
          "output_type": "stream",
          "text": [
            "<class 'pandas.core.frame.DataFrame'>\n",
            "Int64Index: 5950285 entries, 1 to 9921483\n",
            "Data columns (total 75 columns):\n",
            " #   Column                         Dtype  \n",
            "---  ------                         -----  \n",
            " 0   security_product_name          int32  \n",
            " 1   machine_version                int32  \n",
            " 2   app_version                    int32  \n",
            " 3   av_sig_version                 int32  \n",
            " 4   is_beta                        int8   \n",
            " 5   rtp_state                      float32\n",
            " 6   is_sxs_passive                 int8   \n",
            " 7   av_status                      float32\n",
            " 8   av_prod_installed              float32\n",
            " 9   av_prod_enabled                float32\n",
            " 10  has_tpm                        int8   \n",
            " 11  country_id                     int16  \n",
            " 12  city_id                        float32\n",
            " 13  org_id                         float32\n",
            " 14  geo_id                         float32\n",
            " 15  local_name_id                  int8   \n",
            " 16  platform                       int32  \n",
            " 17  processor                      int32  \n",
            " 18  os_version                     int32  \n",
            " 19  os_build                       int16  \n",
            " 20  os_suite                       int16  \n",
            " 21  os_ptfm_sub_release            int32  \n",
            " 22  os_build_lab                   int32  \n",
            " 23  sku_edition                    int32  \n",
            " 24  is_protected                   float32\n",
            " 25  auto_sample_opt_in             int8   \n",
            " 26  s_mode                         float32\n",
            " 27  ie_ver_id                      float32\n",
            " 28  smart_screen                   int32  \n",
            " 29  firewall                       float32\n",
            " 30  uac_luaenable                  float32\n",
            " 31  mdc2_form_factor               int32  \n",
            " 32  device_family                  int32  \n",
            " 33  name_id                        float32\n",
            " 34  oem_model_id                   float32\n",
            " 35  core_count_processer           float32\n",
            " 36  manufacturer_id                float32\n",
            " 37  model_id                       float32\n",
            " 38  disk_capacity                  float32\n",
            " 39  disk_type                      int32  \n",
            " 40  system_volume_capacity         float32\n",
            " 41  has_optical_drive              int8   \n",
            " 42  ram_capacity                   float32\n",
            " 43  chassis_type                   int32  \n",
            " 44  diagonal_display_size          float32\n",
            " 45  display_resolution_horizontal  float32\n",
            " 46  display_resolution_vertical    float32\n",
            " 47  power_profile                  int32  \n",
            " 48  number_of_charges_for_battery  float32\n",
            " 49  version                        int32  \n",
            " 50  architecture                   int32  \n",
            " 51  branch                         int32  \n",
            " 52  build_number                   int16  \n",
            " 53  build_revision                 int32  \n",
            " 54  edition                        int32  \n",
            " 55  sku                            int32  \n",
            " 56  install_type_name              int32  \n",
            " 57  install_language_identifier    float32\n",
            " 58  ui_locale_identifier           int16  \n",
            " 59  auto_update_opt                int32  \n",
            " 60  os_type_status                 int8   \n",
            " 61  state_name                     int32  \n",
            " 62  activation_channel             int32  \n",
            " 63  flights_activity               float32\n",
            " 64  flight_ring                    int32  \n",
            " 65  firmware_manufacturer_id       float32\n",
            " 66  firmware_version_id            float32\n",
            " 67  secure_boot_status             int8   \n",
            " 68  virtual_dev_status             float32\n",
            " 69  touch_support                  int8   \n",
            " 70  pen_support                    int8   \n",
            " 71  aoac_support                   float32\n",
            " 72  is_gamer                       float32\n",
            " 73  region_id                      float32\n",
            " 74  malware_status                 int8   \n",
            "dtypes: float32(32), int16(5), int32(27), int8(11)\n",
            "memory usage: 1.5 GB\n"
          ]
        }
      ],
      "source": [
        "df.info()"
      ]
    },
    {
      "cell_type": "code",
      "execution_count": 15,
      "metadata": {
        "colab": {
          "base_uri": "https://localhost:8080/"
        },
        "id": "j7F8AlKT1VKf",
        "outputId": "685697d9-3597-48e3-e051-b89f97ccc950"
      },
      "outputs": [
        {
          "name": "stdout",
          "output_type": "stream",
          "text": [
            "0\n"
          ]
        }
      ],
      "source": [
        "print(df.isna().sum().sum())"
      ]
    },
    {
      "cell_type": "markdown",
      "metadata": {},
      "source": [
        "# Checking if the dataset is balanced or not w.r.t the target label"
      ]
    },
    {
      "cell_type": "code",
      "execution_count": 31,
      "metadata": {
        "colab": {
          "base_uri": "https://localhost:8080/",
          "height": 531
        },
        "id": "uB2W5yHj1Xx5",
        "outputId": "545accc7-d187-46b7-87b3-77e9e0df97f2"
      },
      "outputs": [
        {
          "data": {
            "text/plain": [
              "Text(0, 0.5, 'Count')"
            ]
          },
          "execution_count": 31,
          "metadata": {},
          "output_type": "execute_result"
        },
        {
          "data": {
            "image/png": "[encoded data removed]",
            "text/plain": [
              "<Figure size 720x576 with 1 Axes>"
            ]
          },
          "metadata": {
            "needs_background": "light"
          },
          "output_type": "display_data"
        }
      ],
      "source": [
        "fig,ax=plt.subplots(figsize=(10,8))\n",
        "bars=ax.bar(['Attack','Normal'],df['malware_status'].value_counts())\n",
        "#ax.bar_label(bars)\n",
        "plt.title(\"Target Distribution\")\n",
        "plt.xlabel('Malware Status')\n",
        "plt.ylabel('Count')"
      ]
    },
    {
      "cell_type": "code",
      "execution_count": 32,
      "metadata": {},
      "outputs": [],
      "source": [
        "sample_df = df.sample(n=10000, random_state=1)"
      ]
    },
    {
      "cell_type": "code",
      "execution_count": 33,
      "metadata": {},
      "outputs": [
        {
          "data": {
            "text/plain": [
              "array([0], dtype=int8)"
            ]
          },
          "execution_count": 33,
          "metadata": {},
          "output_type": "execute_result"
        }
      ],
      "source": [
        "sample_df.is_beta.unique()\n"
      ]
    },
    {
      "cell_type": "code",
      "execution_count": 34,
      "metadata": {},
      "outputs": [],
      "source": [
        "# This implies we need a larger sample spcae for the visualisation of correlation of is_beta columns so we are dropping here for our convinience\n",
        "sample_df.drop(['is_beta'], axis=1, inplace=True)"
      ]
    },
    {
      "cell_type": "code",
      "execution_count": 35,
      "metadata": {},
      "outputs": [
        {
          "data": {
            "text/plain": [
              "<AxesSubplot:>"
            ]
          },
          "execution_count": 35,
          "metadata": {},
          "output_type": "execute_result"
        },
        {
          "data": {
            "image/png": "[encoded data removed]",
            "text/plain": [
              "<Figure size 432x288 with 2 Axes>"
            ]
          },
          "metadata": {
            "needs_background": "light"
          },
          "output_type": "display_data"
        }
      ],
      "source": [
        "\n",
        "# plot heatmap\n",
        "sns.heatmap(sample_df.corr() ,annot=True,vmin=0, vmax=1)\n",
        "# yticks\n"
      ]
    },
    {
      "cell_type": "code",
      "execution_count": 36,
      "metadata": {},
      "outputs": [],
      "source": [
        "correlation = sample_df.corr()"
      ]
    },
    {
      "cell_type": "code",
      "execution_count": 38,
      "metadata": {},
      "outputs": [],
      "source": [
        "from sklearn.preprocessing import StandardScaler\n",
        "\n",
        "# Separating out the features\n",
        "x = df.drop(columns='malware_status')\n",
        "x=x[1:10000]\n",
        "# Separating out the target\n",
        "y = df['malware_status']\n",
        "# Standardizing the features\n",
        "x = StandardScaler().fit_transform(x)"
      ]
    },
    {
      "cell_type": "markdown",
      "metadata": {},
      "source": [
        "Model Training"
      ]
    },
    {
      "cell_type": "code",
      "execution_count": 16,
      "metadata": {},
      "outputs": [],
      "source": [
        "df.to_parquet('clean_df.parquet')"
      ]
    },
    {
      "cell_type": "markdown",
      "metadata": {},
      "source": [
        "Feature Selection"
      ]
    },
    {
      "cell_type": "code",
      "execution_count": null,
      "metadata": {},
      "outputs": [],
      "source": []
    }
  ],
  "metadata": {
    "colab": {
      "provenance": []
    },
    "kernelspec": {
      "display_name": "Python 3.10.4 64-bit",
      "language": "python",
      "name": "python3"
    },
    "language_info": {
      "codemirror_mode": {
        "name": "ipython",
        "version": 3
      },
      "file_extension": ".py",
      "mimetype": "text/x-python",
      "name": "python",
      "nbconvert_exporter": "python",
      "pygments_lexer": "ipython3",
      "version": "3.10.4"
    },
    "vscode": {
      "interpreter": {
        "hash": "dd2cc5f8a122bddbd1ec9da99366ffa535cd85facf7b7b81dc79cb5f68f6ab4f"
      }
    }
  },
  "nbformat": 4,
  "nbformat_minor": 0
}
