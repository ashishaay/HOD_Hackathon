{
 "cells": [
  {
   "cell_type": "code",
   "execution_count": 1,
   "metadata": {},
   "outputs": [],
   "source": [
    "import numpy as np\n",
    "import pandas as pd\n",
    "import sklearn as skl\n",
    "from sklearn.preprocessing import LabelEncoder\n"
   ]
  },
  {
   "cell_type": "code",
   "execution_count": 3,
   "metadata": {},
   "outputs": [
    {
     "name": "stderr",
     "output_type": "stream",
     "text": [
      "C:\\Users\\udain\\AppData\\Local\\Temp\\ipykernel_16824\\2729651577.py:1: DtypeWarning: Columns (28) have mixed types. Specify dtype option on import or set low_memory=False.\n",
      "  df=pd.read_csv(\"D:\\hackathon_HOD\\GDSC Dataset\\kaggle_original_test.csv\")\n"
     ]
    }
   ],
   "source": [
    "df=pd.read_csv(\"D:\\hackathon_HOD\\GDSC Dataset\\kaggle_original_test.csv\")\n",
    "#df1=pd.read_parquet('./final data/clenn_df.parquet')"
   ]
  },
  {
   "cell_type": "code",
   "execution_count": 42,
   "metadata": {},
   "outputs": [
    {
     "name": "stdout",
     "output_type": "stream",
     "text": [
      "oem_model_id\n",
      "malware_status\n"
     ]
    }
   ],
   "source": [
    "# for i in df1.columns:\n",
    "#     if i not in df.columns:\n",
    "#         print(i)"
   ]
  },
  {
   "cell_type": "code",
   "execution_count": 4,
   "metadata": {},
   "outputs": [],
   "source": [
    "df.drop(['os_version', 'activation_channel', 'diagonal_display_size', 'model_id', 'uac_luaenable', 'security_product_name', 'age','sex', 'geo_id', 'flight_ring', 'has_tpm', 'org_id', 'firewall', 'platform', 'city_id', 'state_name', 'secure_boot_status', 'os_build_lab', 'mdc2_form_factor', 'branch', 'system_volume_capacity', 'chassis_type', 'ie_ver_id', 'manufacturer_id', 'display_resolution_vertical', 'av_prod_enabled', 'auto_update_opt', 'sku_edition', 'build_revision', 'local_name_id', 'os_type_status', 'firmware_version_id', 'machine_version', 'country_id'],inplace=True,axis=1)"
   ]
  },
  {
   "cell_type": "code",
   "execution_count": 5,
   "metadata": {},
   "outputs": [
    {
     "data": {
      "text/plain": [
       "(3921483, 50)"
      ]
     },
     "execution_count": 5,
     "metadata": {},
     "output_type": "execute_result"
    }
   ],
   "source": [
    "df.shape"
   ]
  },
  {
   "cell_type": "code",
   "execution_count": 6,
   "metadata": {},
   "outputs": [
    {
     "data": {
      "text/plain": [
       "machine_id                             0\n",
       "app_version                            0\n",
       "av_sig_version                         0\n",
       "is_beta                                0\n",
       "rtp_state                          14195\n",
       "is_sxs_passive                         0\n",
       "default_browser                  3730964\n",
       "av_status                          15892\n",
       "av_prod_installed                  15892\n",
       "processor                              0\n",
       "os_build                               0\n",
       "os_suite                               0\n",
       "os_ptfm_sub_release                    0\n",
       "is_protected                       15809\n",
       "auto_sample_opt_in                     0\n",
       "pua_mode                         3920468\n",
       "s_mode                            236373\n",
       "smart_screen                     1395823\n",
       "device_family                          0\n",
       "name_id                            41887\n",
       "core_count_processer               18135\n",
       "model_id.1                         18149\n",
       "processor_class                  3905284\n",
       "disk_capacity                      23213\n",
       "disk_type                           5696\n",
       "has_optical_drive                      0\n",
       "ram_capacity                       35439\n",
       "display_resolution_horizontal      20554\n",
       "power_profile                         24\n",
       "battery_type                     2785753\n",
       "number_of_charges_for_battery     118123\n",
       "version                                0\n",
       "architecture                           0\n",
       "build_number                           0\n",
       "edition                                0\n",
       "sku                                    0\n",
       "install_type_name                      0\n",
       "install_language_identifier        26528\n",
       "ui_locale_identifier                   0\n",
       "flighting_status                 3255867\n",
       "flights_activity                   70351\n",
       "threshold_choice                 2490594\n",
       "firmware_manufacturer_id           80411\n",
       "wim_boot_status                  2487242\n",
       "virtual_dev_status                  6909\n",
       "touch_support                          0\n",
       "pen_support                            0\n",
       "aoac_support                       31429\n",
       "is_gamer                          132797\n",
       "region_id                         132797\n",
       "dtype: int64"
      ]
     },
     "execution_count": 6,
     "metadata": {},
     "output_type": "execute_result"
    }
   ],
   "source": [
    "df.isna().sum()"
   ]
  },
  {
   "cell_type": "code",
   "execution_count": 7,
   "metadata": {},
   "outputs": [],
   "source": [
    "nullity=(df.isna().sum()/len(df))*100"
   ]
  },
  {
   "cell_type": "code",
   "execution_count": 8,
   "metadata": {},
   "outputs": [
    {
     "name": "stdout",
     "output_type": "stream",
     "text": [
      "7\n"
     ]
    }
   ],
   "source": [
    "c=0\n",
    "for i in df.columns:\n",
    "    if (df[i].isna().sum()/len(df))*100 >50:\n",
    "        df.drop(i,inplace=True,axis=1)\n",
    "        c+=1\n",
    "print(c)"
   ]
  },
  {
   "cell_type": "code",
   "execution_count": 9,
   "metadata": {},
   "outputs": [
    {
     "data": {
      "text/plain": [
       "(3921483, 43)"
      ]
     },
     "execution_count": 9,
     "metadata": {},
     "output_type": "execute_result"
    }
   ],
   "source": [
    "df.shape\n"
   ]
  },
  {
   "cell_type": "code",
   "execution_count": 10,
   "metadata": {},
   "outputs": [],
   "source": [
    "le=LabelEncoder()"
   ]
  },
  {
   "cell_type": "code",
   "execution_count": 11,
   "metadata": {},
   "outputs": [
    {
     "data": {
      "text/plain": [
       "dtype('O')"
      ]
     },
     "execution_count": 11,
     "metadata": {},
     "output_type": "execute_result"
    }
   ],
   "source": [
    "typ=df['app_version'].dtype\n",
    "typ"
   ]
  },
  {
   "cell_type": "code",
   "execution_count": 12,
   "metadata": {},
   "outputs": [
    {
     "data": {
      "text/plain": [
       "13"
      ]
     },
     "execution_count": 12,
     "metadata": {},
     "output_type": "execute_result"
    }
   ],
   "source": [
    "object_col_list=[]\n",
    "for i in df.columns:\n",
    "    if df[i].dtype==typ:\n",
    "        object_col_list.append(i)\n",
    "len(object_col_list)  "
   ]
  },
  {
   "cell_type": "code",
   "execution_count": 13,
   "metadata": {},
   "outputs": [],
   "source": [
    "for i in object_col_list:\n",
    "    df[i]=le.fit_transform(df[i])"
   ]
  },
  {
   "cell_type": "code",
   "execution_count": 57,
   "metadata": {},
   "outputs": [
    {
     "name": "stdout",
     "output_type": "stream",
     "text": [
      "         machine_id  app_version  av_sig_version  is_beta  rtp_state  \\\n",
      "0           5000000            0            4532        0        7.0   \n",
      "1           5000001           56            7467        0        7.0   \n",
      "2           5000002           90            8245        0        7.0   \n",
      "3           5000003            0            7765        0        7.0   \n",
      "4           5000004           56            8114        0        7.0   \n",
      "...             ...          ...             ...      ...        ...   \n",
      "3921478     8921478           25            6057        0        7.0   \n",
      "3921479     8921479           56            8276        0        7.0   \n",
      "3921480     8921480           56            7556        0        7.0   \n",
      "3921481     8921481           44            6805        0        7.0   \n",
      "3921482     8921482           56            7816        0        7.0   \n",
      "\n",
      "         is_sxs_passive  av_status  av_prod_installed  processor  os_build  \\\n",
      "0                     0    40645.0                3.0          1     14393   \n",
      "1                     0    53447.0                1.0          1     16299   \n",
      "2                     0    53447.0                1.0          2     10586   \n",
      "3                     0    52652.0                2.0          1     14393   \n",
      "4                     0    53447.0                1.0          1     17134   \n",
      "...                 ...        ...                ...        ...       ...   \n",
      "3921478               0    53447.0                1.0          1     17134   \n",
      "3921479               0    53447.0                1.0          1     17134   \n",
      "3921480               0    53447.0                1.0          2     17134   \n",
      "3921481               0    43927.0                2.0          1     17134   \n",
      "3921482               0    53447.0                1.0          1     17134   \n",
      "\n",
      "         ...  install_language_identifier  ui_locale_identifier  \\\n",
      "0        ...                         37.0                   158   \n",
      "1        ...                         34.0                   145   \n",
      "2        ...                          NaN                    31   \n",
      "3        ...                         15.0                    58   \n",
      "4        ...                          8.0                    31   \n",
      "...      ...                          ...                   ...   \n",
      "3921478  ...                         25.0                   115   \n",
      "3921479  ...                         14.0                    49   \n",
      "3921480  ...                         39.0                   160   \n",
      "3921481  ...                         17.0                    64   \n",
      "3921482  ...                          9.0                    34   \n",
      "\n",
      "         flights_activity  firmware_manufacturer_id  virtual_dev_status  \\\n",
      "0                     0.0                     142.0                 0.0   \n",
      "1                     0.0                      93.0                 0.0   \n",
      "2                     0.0                     142.0                 0.0   \n",
      "3                     0.0                     628.0                 0.0   \n",
      "4                     0.0                     628.0                 0.0   \n",
      "...                   ...                       ...                 ...   \n",
      "3921478               0.0                     355.0                 0.0   \n",
      "3921479               0.0                     513.0                 0.0   \n",
      "3921480               0.0                     142.0                 0.0   \n",
      "3921481               0.0                     142.0                 0.0   \n",
      "3921482               0.0                     628.0                 0.0   \n",
      "\n",
      "         touch_support  pen_support  aoac_support  is_gamer  region_id  \n",
      "0                    0            0           0.0       1.0        7.0  \n",
      "1                    1            0           0.0       1.0        1.0  \n",
      "2                    0            0           0.0       1.0       11.0  \n",
      "3                    0            0           0.0       0.0       11.0  \n",
      "4                    0            0           0.0       0.0       10.0  \n",
      "...                ...          ...           ...       ...        ...  \n",
      "3921478              0            0           0.0       NaN        NaN  \n",
      "3921479              1            0           1.0       0.0        5.0  \n",
      "3921480              0            0           0.0       0.0        7.0  \n",
      "3921481              0            0           0.0       0.0        3.0  \n",
      "3921482              0            0           0.0       0.0       10.0  \n",
      "\n",
      "[3921483 rows x 43 columns]\n"
     ]
    }
   ],
   "source": [
    "print(df)"
   ]
  },
  {
   "cell_type": "code",
   "execution_count": 14,
   "metadata": {},
   "outputs": [
    {
     "name": "stdout",
     "output_type": "stream",
     "text": [
      "rtp_state\n",
      "av_status\n",
      "av_prod_installed\n",
      "is_protected\n",
      "s_mode\n",
      "name_id\n",
      "core_count_processer\n",
      "model_id.1\n",
      "disk_capacity\n",
      "ram_capacity\n",
      "display_resolution_horizontal\n",
      "number_of_charges_for_battery\n",
      "install_language_identifier\n",
      "flights_activity\n",
      "firmware_manufacturer_id\n",
      "virtual_dev_status\n",
      "aoac_support\n",
      "is_gamer\n",
      "region_id\n"
     ]
    }
   ],
   "source": [
    "for i in df.columns:\n",
    "  if df[i].isna().sum()>0:\n",
    "    print(i)\n",
    "    df[i].fillna(value=df[i].mode(),inplace=True)"
   ]
  },
  {
   "cell_type": "code",
   "execution_count": 15,
   "metadata": {},
   "outputs": [
    {
     "data": {
      "text/plain": [
       "1054882"
      ]
     },
     "execution_count": 15,
     "metadata": {},
     "output_type": "execute_result"
    }
   ],
   "source": [
    "df.isna().sum().sum()"
   ]
  },
  {
   "cell_type": "code",
   "execution_count": 55,
   "metadata": {},
   "outputs": [
    {
     "name": "stdout",
     "output_type": "stream",
     "text": [
      "<class 'pandas.core.frame.DataFrame'>\n",
      "RangeIndex: 3921483 entries, 0 to 3921482\n",
      "Data columns (total 43 columns):\n",
      " #   Column                         Dtype  \n",
      "---  ------                         -----  \n",
      " 0   machine_id                     int64  \n",
      " 1   app_version                    int64  \n",
      " 2   av_sig_version                 int64  \n",
      " 3   is_beta                        int64  \n",
      " 4   rtp_state                      float64\n",
      " 5   is_sxs_passive                 int64  \n",
      " 6   av_status                      float64\n",
      " 7   av_prod_installed              float64\n",
      " 8   processor                      int64  \n",
      " 9   os_build                       int64  \n",
      " 10  os_suite                       int64  \n",
      " 11  os_ptfm_sub_release            int64  \n",
      " 12  is_protected                   float64\n",
      " 13  auto_sample_opt_in             int64  \n",
      " 14  s_mode                         float64\n",
      " 15  smart_screen                   int64  \n",
      " 16  device_family                  int64  \n",
      " 17  name_id                        float64\n",
      " 18  core_count_processer           float64\n",
      " 19  model_id.1                     float64\n",
      " 20  disk_capacity                  float64\n",
      " 21  disk_type                      int64  \n",
      " 22  has_optical_drive              int64  \n",
      " 23  ram_capacity                   float64\n",
      " 24  display_resolution_horizontal  float64\n",
      " 25  power_profile                  int64  \n",
      " 26  number_of_charges_for_battery  float64\n",
      " 27  version                        int64  \n",
      " 28  architecture                   int64  \n",
      " 29  build_number                   int64  \n",
      " 30  edition                        int64  \n",
      " 31  sku                            int64  \n",
      " 32  install_type_name              int64  \n",
      " 33  install_language_identifier    float64\n",
      " 34  ui_locale_identifier           int64  \n",
      " 35  flights_activity               float64\n",
      " 36  firmware_manufacturer_id       float64\n",
      " 37  virtual_dev_status             float64\n",
      " 38  touch_support                  int64  \n",
      " 39  pen_support                    int64  \n",
      " 40  aoac_support                   float64\n",
      " 41  is_gamer                       float64\n",
      " 42  region_id                      float64\n",
      "dtypes: float64(19), int64(24)\n",
      "memory usage: 1.3 GB\n"
     ]
    }
   ],
   "source": [
    "df.info()"
   ]
  },
  {
   "cell_type": "code",
   "execution_count": 56,
   "metadata": {},
   "outputs": [
    {
     "data": {
      "text/plain": [
       "1054882"
      ]
     },
     "execution_count": 56,
     "metadata": {},
     "output_type": "execute_result"
    }
   ],
   "source": [
    "df.isna().sum().sum()"
   ]
  }
 ],
 "metadata": {
  "kernelspec": {
   "display_name": "Python 3.10.4 64-bit",
   "language": "python",
   "name": "python3"
  },
  "language_info": {
   "codemirror_mode": {
    "name": "ipython",
    "version": 3
   },
   "file_extension": ".py",
   "mimetype": "text/x-python",
   "name": "python",
   "nbconvert_exporter": "python",
   "pygments_lexer": "ipython3",
   "version": "3.10.4"
  },
  "orig_nbformat": 4,
  "vscode": {
   "interpreter": {
    "hash": "dd2cc5f8a122bddbd1ec9da99366ffa535cd85facf7b7b81dc79cb5f68f6ab4f"
   }
  }
 },
 "nbformat": 4,
 "nbformat_minor": 2
}
